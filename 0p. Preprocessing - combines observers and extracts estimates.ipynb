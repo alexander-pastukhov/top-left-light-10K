{
 "cells": [
  {
   "cell_type": "markdown",
   "metadata": {},
   "source": [
    "# Preprocessing\n",
    "1. For individual observers, entries for paintings that were never presented are discarded.\n",
    "2. All entires are combined into a single [results_combined.csv](results_combined.csv) table.\n",
    "3. For all entires with an estimate (_i.e._, Confidence>0), the last estimate is used to compute the relative location of the light source both in polar and in Cartesian coordinate systems. Results of preprocessings are saved to [results_with_estimates.csv](results_with_estimates.csv)."
   ]
  },
  {
   "cell_type": "code",
   "execution_count": 1,
   "metadata": {},
   "outputs": [],
   "source": [
    "# importing prerequisites\n",
    "from ast import literal_eval\n",
    "import os\n",
    "import numpy as np\n",
    "import pandas as pd"
   ]
  },
  {
   "cell_type": "markdown",
   "metadata": {},
   "source": [
    "### Loading all observers into a single data frame and saving it to the 'results_combined.csv'"
   ]
  },
  {
   "cell_type": "code",
   "execution_count": 2,
   "metadata": {},
   "outputs": [
    {
     "name": "stdout",
     "output_type": "stream",
     "text": [
      "01KSC94w\n",
      "02SEF89m\n",
      "03SSK93m\n"
     ]
    }
   ],
   "source": [
    "data_folder= 'Data'\n",
    "files= ['01KSC94w', '02SEF89m', '03SSK93m', '04IKB95w', '05SKL94w', '06MMN92m', '07HHA96w']\n",
    "results= None\n",
    "\n",
    "for current_file in files:\n",
    "    # loading data for an individual observer\n",
    "    current_observer= pd.read_csv(os.path.join(data_folder, current_file+\".csv\"), sep=';', decimal='.', encoding='utf8')\n",
    "    \n",
    "    # discarding any entry for the painting that was not presented (no Confidence report)\n",
    "    current_observer= current_observer[current_observer.Confidence.notnull()]\n",
    "    \n",
    "    # due to programming error, for some observers trial timestamp column is absent\n",
    "    if not 'TrialTimestamp' in current_observer.columns.values:\n",
    "        print(current_file)\n",
    "        current_observer['TrialTimestamp']= np.nan\n",
    "\n",
    "    # merging tables\n",
    "    if results is None:\n",
    "        results= current_observer\n",
    "    else:\n",
    "        results= pd.concat([results, current_observer])     \n",
    "        \n",
    "# reseting index (multiple index entries were combined during merging)\n",
    "results= results.reset_index(drop=True)\n",
    "\n",
    "# saving \n",
    "results.to_csv(os.path.join('Data', 'results_combined.csv'), sep=';', index_label=False, decimal= '.', index=False, encoding='utf8')"
   ]
  },
  {
   "cell_type": "markdown",
   "metadata": {},
   "source": [
    "### Extracting an estimate as an angle in polar coordinates and as dx/dy components"
   ]
  },
  {
   "cell_type": "code",
   "execution_count": 3,
   "metadata": {},
   "outputs": [],
   "source": [
    "### computing estimate both in polar and in cartesian coordinate systems\n",
    "results['dx']= np.nan # randomly inverted in ~50% of trials\n",
    "results['true_dx']= np.nan\n",
    "results['dy']= np.nan\n",
    "results['angle']= np.nan # randomly flipped around 0 deg in ~50% of trials\n",
    "results['true_angle']= np.nan\n",
    "\n",
    "for iRow in results.index:\n",
    "    if results.Confidence[iRow]>0: # 0 confidence means lack of estimate\n",
    "        current_estimate= literal_eval(results.Estimates[iRow])\n",
    "        results.set_value(iRow, 'dx', -(current_estimate[-1]['End'][0]- current_estimate[-1]['Start'][0]))\n",
    "        results.set_value(iRow, 'dy', current_estimate[-1]['End'][1]- current_estimate[-1]['Start'][1])\n",
    "        results.set_value(iRow, 'angle',  np.arctan2(results.dy[iRow], results.dx[iRow]))\n",
    "        \n",
    "        if results.FlippedLR[iRow]:\n",
    "            results.set_value(iRow, 'true_dx', -results.dx[iRow])\n",
    "        else:\n",
    "            results.set_value(iRow, 'true_dx', results.dx[iRow])\n",
    "        results.set_value(iRow, 'true_angle',  np.arctan2(results.dy[iRow], results.true_dx[iRow]))\n",
    "        \n",
    "## converting polar angle estimates so that 1) 0 degrees is at 12 o'clock, 2) they are within -pi..pi range, and 3) angles are counted CLOCKWIZE\n",
    "for angle_type in ['angle', 'true_angle']:\n",
    "    # 1) 0 degrees is at 12 o'clock\n",
    "    results.loc[results.Confidence>0, angle_type]= results.loc[results.Confidence>0, angle_type]-np.pi/2\n",
    "\n",
    "    # 2) estimates are within -pi..pi range\n",
    "    results.loc[(results.Confidence>0) & (results[angle_type]<-np.pi), angle_type]= results.loc[(results.Confidence>0) & (results[angle_type]<-np.pi), angle_type]+2*np.pi\n",
    "\n",
    "    # 3) angles are counted clockwise\n",
    "    results.loc[results.Confidence>0, angle_type]= -results.loc[results.Confidence>0, angle_type]    \n",
    "    \n",
    "## adding a degrees version\n",
    "results['angle_deg']= np.degrees(results.angle)\n",
    "results['true_angle_deg']= np.degrees(results.true_angle)\n",
    "    \n",
    "# saving \n",
    "results.to_csv(os.path.join('Data', 'results_with_estimates.csv'), sep=';', decimal='.', index_label=False, index=False, encoding='utf8')"
   ]
  }
 ],
 "metadata": {
  "kernelspec": {
   "display_name": "Python 3",
   "language": "python",
   "name": "python3"
  },
  "language_info": {
   "codemirror_mode": {
    "name": "ipython",
    "version": 3
   },
   "file_extension": ".py",
   "mimetype": "text/x-python",
   "name": "python",
   "nbconvert_exporter": "python",
   "pygments_lexer": "ipython3",
   "version": "3.6.1"
  }
 },
 "nbformat": 4,
 "nbformat_minor": 1
}
